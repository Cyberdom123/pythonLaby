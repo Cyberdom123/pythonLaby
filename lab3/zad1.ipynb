{
 "cells": [
  {
   "cell_type": "code",
   "execution_count": 10,
   "metadata": {},
   "outputs": [],
   "source": [
    "from datasets import load_dataset\n",
    "import pandas as pd\n",
    "\n",
    "dataset = load_dataset(\"imodels/credit-card\")\n",
    "df = pd.DataFrame(dataset['train'])"
   ]
  },
  {
   "cell_type": "code",
   "execution_count": 11,
   "metadata": {},
   "outputs": [
    {
     "name": "stdout",
     "output_type": "stream",
     "text": [
      "3070     True\n",
      "4687     True\n",
      "6413     True\n",
      "7683     True\n",
      "8747     True\n",
      "9434     True\n",
      "11338    True\n",
      "11364    True\n",
      "11871    True\n",
      "12178    True\n",
      "14745    True\n",
      "15307    True\n",
      "15867    True\n",
      "16224    True\n",
      "17526    True\n",
      "17916    True\n",
      "18390    True\n",
      "18521    True\n",
      "19465    True\n",
      "19530    True\n",
      "21794    True\n",
      "22338    True\n",
      "22445    True\n",
      "22481    True\n",
      "23194    True\n",
      "dtype: bool\n"
     ]
    }
   ],
   "source": [
    "#check if duplicates occurred\n",
    "print(df.duplicated()[df.duplicated() == True])\n",
    "df = df.drop_duplicates()"
   ]
  },
  {
   "cell_type": "code",
   "execution_count": 30,
   "metadata": {},
   "outputs": [
    {
     "name": "stdout",
     "output_type": "stream",
     "text": [
      "[[1.         0.14902564]\n",
      " [0.14902564 1.        ]]\n"
     ]
    }
   ],
   "source": [
    "import numpy as np\n",
    "\n",
    "age = df['age']\n",
    "sex_male = df['sex:1']\n",
    "sex_female = df['sex:2']\n",
    "limit_bal = df['limit_bal']\n",
    "\n",
    "print(np.corrcoef(age,limit_bal))\n"
   ]
  },
  {
   "cell_type": "code",
   "execution_count": 13,
   "metadata": {},
   "outputs": [],
   "source": [
    "sumOfBills = (df['bill_amt1'] + df['bill_amt2'] + df['bill_amt3'] +\n",
    "              df['bill_amt4'] + df['bill_amt5'] + df['bill_amt6'])\n",
    "df.insert(0, \"Sum_bill_amt\", sumOfBills)"
   ]
  },
  {
   "cell_type": "code",
   "execution_count": 29,
   "metadata": {},
   "outputs": [
    {
     "name": "stdout",
     "output_type": "stream",
     "text": [
      "       limit_bal   age    education  Sum_bill_amt\n",
      "99      440000.0  79.0   university     2647383.0\n",
      "17116   180000.0  75.0   university           0.0\n",
      "11932   250000.0  75.0  high school       63417.0\n",
      "2728    210000.0  75.0  high school     1229123.0\n",
      "7491    160000.0  74.0       others      251463.0\n",
      "4589     80000.0  73.0       others      416184.0\n",
      "3378    500000.0  73.0  high school       21059.0\n",
      "7762    360000.0  73.0       others           0.0\n",
      "21102   140000.0  73.0  high school      817109.0\n",
      "8376    150000.0  72.0       others       11657.0\n"
     ]
    }
   ],
   "source": [
    "df = df.sort_values(by='age', ascending=False)\n",
    "\n",
    "#EDUCATION: (1=graduate school, 2=university, 3=high school, 4=others, 5=unknown, 6=unknown)\n",
    "df.loc[df['education:0'] == 1, 'education'] = 'graduate school'\n",
    "df.loc[df['education:1'] == 1, 'education'] = 'university'\n",
    "df.loc[df['education:2'] == 1, 'education'] = 'high school'\n",
    "df.loc[df['education:3'] == 1, 'education'] = 'others'\n",
    "df.loc[df['education:4'] == 1, 'education'] = 'unknown'\n",
    "df.loc[df['education:5'] == 1, 'education'] = 'unknown'\n",
    "\n",
    "#create new dataset with top 10 oldest peoples\n",
    "maxAge = pd.DataFrame(df[:10])\n",
    "newDf = pd.concat([\n",
    "    maxAge['limit_bal'],\n",
    "    maxAge['age'],\n",
    "    maxAge['education'],\n",
    "    maxAge['Sum_bill_amt']\n",
    "], axis=1)  \n",
    "\n",
    "print(newDf)"
   ]
  },
  {
   "cell_type": "code",
   "execution_count": 42,
   "metadata": {},
   "outputs": [
    {
     "name": "stdout",
     "output_type": "stream",
     "text": [
      "[[1.         0.14902564]\n",
      " [0.14902564 1.        ]]\n"
     ]
    },
    {
     "data": {
      "image/png": "[encoded data removed]",
      "text/plain": [
       "<Figure size 640x480 with 3 Axes>"
      ]
     },
     "metadata": {},
     "output_type": "display_data"
    }
   ],
   "source": [
    "import matplotlib.pyplot as plt\n",
    "\n",
    "fig, axs = plt.subplots(3)\n",
    "\n",
    "axs[0].hist(df['age'])\n",
    "axs[1].hist(df['limit_bal'])\n",
    "axs[2].plot(df['age'], df['limit_bal'],'o')\n",
    "print(np.corrcoef(age,limit_bal))"
   ]
  }
 ],
 "metadata": {
  "kernelspec": {
   "display_name": "Python 3",
   "language": "python",
   "name": "python3"
  },
  "language_info": {
   "codemirror_mode": {
    "name": "ipython",
    "version": 3
   },
   "file_extension": ".py",
   "mimetype": "text/x-python",
   "name": "python",
   "nbconvert_exporter": "python",
   "pygments_lexer": "ipython3",
   "version": "3.11.6"
  }
 },
 "nbformat": 4,
 "nbformat_minor": 2
}
