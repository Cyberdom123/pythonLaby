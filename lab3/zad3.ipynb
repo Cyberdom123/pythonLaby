{
 "cells": [
  {
   "cell_type": "code",
   "execution_count": 19,
   "metadata": {},
   "outputs": [],
   "source": [
    "class Tree:\n",
    "    def __init__(self, value) -> None:\n",
    "        self.nodeVal = value\n",
    "        self.nodes = []\n",
    "        self.id = 0\n",
    "\n",
    "    def AddNode(self, value):\n",
    "        tree = Tree(value)\n",
    "        tree.id = self.id + 1\n",
    "        self.nodes.append(tree)\n",
    "    \n",
    "    def GoThrough(self):\n",
    "        print(self)\n",
    "        for node in self.nodes:\n",
    "            if len(node.nodes) != 0:\n",
    "                node.GoThrough()\n",
    "            else:\n",
    "                print(f\"{node}\")\n",
    "\n",
    "    def __str__(self):\n",
    "        string = \"\"\n",
    "        for i in range(self.id):\n",
    "            string = string + \" \";\n",
    "        string = string + \"┗➔\"\n",
    "        return f\"{string} Node value: {self.nodeVal}\"\n",
    "\n",
    "    @property    \n",
    "    def lowest(self):\n",
    "        if not self.nodes:\n",
    "            return self.nodeVal\n",
    "        else:\n",
    "            lowest_values = [node.lowest for node in self.nodes]\n",
    "            return min(lowest_values)\n",
    "\n"
   ]
  },
  {
   "cell_type": "code",
   "execution_count": 20,
   "metadata": {},
   "outputs": [],
   "source": [
    "tree = Tree(0)\n",
    "tree.AddNode(3.14)\n",
    "tree.nodes[0].AddNode(1)\n",
    "tree.nodes[0].AddNode(3)\n",
    "tree.nodes[0].nodes[0].AddNode(33)\n",
    "tree.nodes[0].nodes[0].AddNode(-23)\n",
    "tree.nodes[0].nodes[1].AddNode(11)\n",
    "tree.nodes[0].nodes[1].nodes[0].AddNode(-3)"
   ]
  },
  {
   "cell_type": "code",
   "execution_count": 21,
   "metadata": {},
   "outputs": [
    {
     "name": "stdout",
     "output_type": "stream",
     "text": [
      "┗➔ Node value: 0\n",
      " ┗➔ Node value: 3.14\n",
      "  ┗➔ Node value: 1\n",
      "   ┗➔ Node value: 33\n",
      "   ┗➔ Node value: -23\n",
      "  ┗➔ Node value: 3\n",
      "   ┗➔ Node value: 11\n",
      "    ┗➔ Node value: -3\n"
     ]
    }
   ],
   "source": [
    "tree.GoThrough()"
   ]
  },
  {
   "cell_type": "code",
   "execution_count": 22,
   "metadata": {},
   "outputs": [
    {
     "name": "stdout",
     "output_type": "stream",
     "text": [
      "-23\n"
     ]
    }
   ],
   "source": [
    "print(tree.lowest)"
   ]
  }
 ],
 "metadata": {
  "kernelspec": {
   "display_name": "Python 3",
   "language": "python",
   "name": "python3"
  },
  "language_info": {
   "codemirror_mode": {
    "name": "ipython",
    "version": 3
   },
   "file_extension": ".py",
   "mimetype": "text/x-python",
   "name": "python",
   "nbconvert_exporter": "python",
   "pygments_lexer": "ipython3",
   "version": "3.10.12"
  }
 },
 "nbformat": 4,
 "nbformat_minor": 2
}
